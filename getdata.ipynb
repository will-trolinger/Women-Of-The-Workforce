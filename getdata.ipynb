{
 "cells": [
  {
   "cell_type": "markdown",
   "metadata": {},
   "source": [
    "1. Data from Census, America Counts Report\n",
    "2. Most data from ACS 5 year report\n",
    "1. Gender/age/race distributions\n",
    "2. martial status\n",
    "3. Percent of single mothers in metro areas and state overall\n",
    "4. Annual birth rate US, state, metros\n",
    "5. Educational attainment males/females nation/state\n",
    "6. Percent of degrees by field male/female nation/state\n",
    "\n",
    "git remote add origin https://github.com/will-trolinger/Women-Of-The-Workforce"
   ]
  },
  {
   "cell_type": "code",
   "execution_count": null,
   "metadata": {},
   "outputs": [],
   "source": [
    "import requests\n",
    "import json\n",
    "\n",
    "key = '53d381be840b788f5a1926068f6ae85b72ee4c51'\n",
    "url = 'https://api.census.gov/data/2022/acs/acs5/cprofile?get=NAME,DPO2&for=state:*&key={}'.format(key)\n",
    "response = requests.get(url)\n",
    "\n",
    "print()\n",
    "if response.status_code == 200:\n",
    "    data = response.json()\n",
    "    print(data)\n",
    "else:\n",
    "    print(\"Error:\", response.status_code, response.text)\n",
    "\n"
   ]
  },
  {
   "cell_type": "markdown",
   "metadata": {},
   "source": [
    "## ACS Variables with Descriptions\n",
    "### Demographics\n",
    "1. DP02_0001E - Total Households\n",
    "2. DP02_0002E - Total Married-couple Family Households\n",
    "3. DP02_0011E - Single Mothers Estimates\n",
    "4. DP02_0011E - Single Mothers Estimates as a percentage of total households\n",
    "5. DP02_0037E - Estimate of births given in last year\n",
    "6. B15002_002E:B15002_0018E - Educational Attainment - Males\n",
    "7. B15002_019E:B15002_035E -  Educational Attainment - Females \n",
    "\n",
    "**Order For Education Fields:** [Total, No Schooling Completed, Nursery School to 4th Grade, 5th Grade or 6th Grade, 7th Grade or 8th Grade, 9th Grade, 10th Grade, 11th Grade, 12th Grade no diploma, High School Graduate, Some College no degree, Associate's Degree, Bachelor's Degree, Master's Degree, Professional School Degree, Doctorate Degree]\n",
    "\n",
    "### Employment, Labor Force Participation, Earnings\n",
    "1. DP03_0012E - Females 16 years and older in labor force\n",
    "2. B26219_003E - Median Earnings in the last 12 months - Females\n",
    "3. B26219_002E - Median Earnings in the last 12 months - Males\n",
    "\n",
    "\n",
    "\n",
    "### Health Insurance and Medicaid Enrollment\n",
    "1. S2701_C04_014E - Non Insured - Males\n",
    "2. S2701_C04_015E - Non Insured - Females\n",
    "3. S2701_C05_003E - Uninsured Under 6 y/o\n",
    "4. S2701_C05_004E - Uninsured 6-18 y/o\n",
    "5. C27007_002E - Medicaid - Males\n",
    "6. C27007_012E - Medicaid - Females \n",
    "\n",
    "### Childcare affordability, related state programs, subsidies, PreK funding\n",
    "1. \n",
    "\n",
    "\n",
    "### Poverty and access to SNAP\n",
    "1. B17001A_003E - Income below poverty level - Males\n",
    "2. B17001A_017E - Income below poverty level - Females\n",
    "3. B17001A_029E - Income below poverty level - Females Ages 65 - 74\n",
    "4. B17001A_030E - Income below poverty level - Females Ages 75+\n",
    "5. B17001A_017E - Income below poverty level - Females - White\n",
    "6. B17001B_017E - Income below poverty level - Females - African American\n",
    "7. B17001C_017E - Income below poverty level - Females - AIAN\n",
    "8. B17001D_017E - Income below poverty level - Females - Asian\n",
    "9. B17001E_017E - Income below poverty level - Females - NHOPI\n",
    "10. B17001F_017E - Income below poverty level - Females - Some other Race Alone\n",
    "11. B17001G_017E - Income below poverty level - Females - Two or More Races\n",
    "12. B17001H_017E - Income below poverty level - Females - White Alone, Not Hispanic or Latino\n",
    "13. B17001I_017E - Income below poverty level - Females - Hispanic or Latino\n",
    "14. S2201_C04_012E - SNAP - Males No Spouse\n",
    "15. S2201_C04_013E - SNAP - Females No Spouse\n",
    "\n",
    "\n",
    "### Civic Engagement\n",
    "1. https://cawpdata.rutgers.edu - women in state legislature nation/state over 7 years (Center for American Women and Politics)\n",
    "\n",
    "### Fields I have Not Found:\n",
    "1. Female LFPR by county in state\n",
    "2. Employment by sector (11) male/female nation/state\n",
    "3. Employer firms by gender, show last few years\n",
    "4. Number of licenses facilities by year, last 7 years \n",
    "5. affordability from child care aware\n",
    "6. Compare to college using EPI data and OK College Start state data\n",
    "7. Number of children receiving state subsidy over 7 years\n",
    "8. Women 15-50 receiving public assistance gave birth/no now single/married (From ACS 5 year data)\n",
    "9. Percent  who voted in elections male/female nation/state"
   ]
  },
  {
   "cell_type": "markdown",
   "metadata": {},
   "source": []
  },
  {
   "cell_type": "code",
   "execution_count": null,
   "metadata": {},
   "outputs": [],
   "source": [
    "import requests\n",
    "\n",
    "\n",
    "\n",
    "\n",
    "\n",
    "key = '53d381be840b788f5a1926068f6ae85b72ee4c51'\n",
    "url = f'https://api.census.gov/data/2022/acs/acs5?get=NAME,B15002_019E&for=state:*&key={key}'\n",
    "response = requests.get(url)\n",
    "print(response)\n",
    "print(response.text)\n",
    "\n",
    "# if response.status_code == 200:\n",
    "#     data = response.json()\n",
    "#     print(data)\n",
    "# else:\n",
    "#     print(\"Error:\", response.status_code, response.text)\n"
   ]
  },
  {
   "cell_type": "code",
   "execution_count": null,
   "metadata": {},
   "outputs": [],
   "source": []
  }
 ],
 "metadata": {
  "kernelspec": {
   "display_name": "Python 3",
   "language": "python",
   "name": "python3"
  },
  "language_info": {
   "codemirror_mode": {
    "name": "ipython",
    "version": 3
   },
   "file_extension": ".py",
   "mimetype": "text/x-python",
   "name": "python",
   "nbconvert_exporter": "python",
   "pygments_lexer": "ipython3",
   "version": "3.11.4"
  }
 },
 "nbformat": 4,
 "nbformat_minor": 2
}
