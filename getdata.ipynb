{
 "cells": [
  {
   "cell_type": "markdown",
   "metadata": {},
   "source": [
    "1. Data from Census, America Counts Report\n",
    "2. Most data from ACS 5 year report\n",
    "1. Gender/age/race distributions\n",
    "2. martial status\n",
    "3. Percent of single mothers in metro areas and state overall\n",
    "4. Annual birth rate US, state, metros\n",
    "5. Educational attainment males/females nation/state\n",
    "6. Percent of degrees by field male/female nation/state\n",
    "\n",
    "git remote add origin https://github.com/will-trolinger/Women-Of-The-Workforce"
   ]
  },
  {
   "cell_type": "code",
   "execution_count": null,
   "metadata": {},
   "outputs": [],
   "source": [
    "import requests\n",
    "import json\n",
    "\n",
    "key = '53d381be840b788f5a1926068f6ae85b72ee4c51'\n",
    "url = 'https://api.census.gov/data/2022/acs/acs5/cprofile?get=NAME,DPO2&for=state:*&key={}'.format(key)\n",
    "response = requests.get(url)\n",
    "\n",
    "print()\n",
    "if response.status_code == 200:\n",
    "    data = response.json()\n",
    "    print(data)\n",
    "else:\n",
    "    print(\"Error:\", response.status_code, response.text)\n",
    "\n"
   ]
  },
  {
   "cell_type": "markdown",
   "metadata": {},
   "source": []
  },
  {
   "cell_type": "code",
   "execution_count": null,
   "metadata": {},
   "outputs": [],
   "source": [
    "import requests\n",
    "\n",
    "# DP02_0001E - Total Households\n",
    "\n",
    "\n",
    "# DP02_0002E - Total Married-couple Family Households\n",
    "# DP02_0002PE - Total Married-couple Family Households as a percentage of total households\n",
    "\n",
    "# DP02_0011E - Single Mothers Estimates\n",
    "# DP02_0011PE - Single Mothers Estimates as a percentage of total households\n",
    "\n",
    "# DP02_0037E - Estimate of births given in last year\n",
    "# DP02_0037PE - Estimate of births given in last year as a percentage\n",
    "\n",
    "# Educational Attainment \n",
    "# Order: [Total, No Schooling Completed, Nursery School to 4th Grade, 5th Grade or 6th Grade, 7th Grade or 8th Grade, 9th Grade, 10th Grade, 11th Grade, 12th Grade no diploma, High School Graduate, \n",
    "#        Some College no degree, Associate's Degree, Bachelor's Degree, Master's Degree, Professional School Degree, Doctorate Degree]\n",
    "# B15002_002E:B15002_0018E - Males\n",
    "# B15002_019E:B15002_035E - Females\n",
    "\n",
    "# Field of Degree\n",
    "# Order: [Total, Science and Engineering, Science and Engineering Related, Business, Education, Art Humanities and Other]\n",
    "# S1502_C03_001E:S1502_C03_006E - Males\n",
    "# S1502_C05_001E:S1502_C05_006E - Males\n",
    "\n",
    "\n",
    "# DP03_0012E - Females 16 years and older in labor force\n",
    "\n",
    "# B26219_003E - Median Earnings in the last 12 months - Females\n",
    "# B26219_002E - Median Earnings in the last 12 months - Males\n",
    "\n",
    "\n",
    "\n",
    "key = '53d381be840b788f5a1926068f6ae85b72ee4c51'\n",
    "url = f'https://api.census.gov/data/2022/acs/acs5?get=NAME,B15002_019E&for=state:*&key={key}'\n",
    "response = requests.get(url)\n",
    "print(response)\n",
    "print(response.text)\n",
    "\n",
    "# if response.status_code == 200:\n",
    "#     data = response.json()\n",
    "#     print(data)\n",
    "# else:\n",
    "#     print(\"Error:\", response.status_code, response.text)\n"
   ]
  },
  {
   "cell_type": "code",
   "execution_count": null,
   "metadata": {},
   "outputs": [],
   "source": []
  }
 ],
 "metadata": {
  "kernelspec": {
   "display_name": "Python 3",
   "language": "python",
   "name": "python3"
  },
  "language_info": {
   "codemirror_mode": {
    "name": "ipython",
    "version": 3
   },
   "file_extension": ".py",
   "mimetype": "text/x-python",
   "name": "python",
   "nbconvert_exporter": "python",
   "pygments_lexer": "ipython3",
   "version": "3.11.4"
  }
 },
 "nbformat": 4,
 "nbformat_minor": 2
}
